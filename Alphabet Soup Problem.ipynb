{
 "cells": [
  {
   "cell_type": "markdown",
   "id": "f83bb455-87aa-4791-b397-8d58cc4e3b15",
   "metadata": {},
   "source": [
    "Alphabet Soup Problem"
   ]
  },
  {
   "cell_type": "code",
   "execution_count": 1,
   "id": "d6ba47aa-33a0-4e6f-95d8-5a3519599f57",
   "metadata": {},
   "outputs": [
    {
     "name": "stdin",
     "output_type": "stream",
     "text": [
      "Enter your word:  hacker\n"
     ]
    },
    {
     "name": "stdout",
     "output_type": "stream",
     "text": [
      "Your word in alphabetical order: acehkr\n"
     ]
    }
   ],
   "source": [
    "def alphabet_soup(w):\n",
    "    sorted_chars = sorted(w, key=str.lower)\n",
    "    joined_chars = \"\".join(sorted_chars)\n",
    "    return joined_chars\n",
    "    \n",
    "\n",
    "w = input(\"Enter your word: \")\n",
    "print(f'Your word in alphabetical order: {alphabet_soup(w)}')"
   ]
  }
 ],
 "metadata": {
  "kernelspec": {
   "display_name": "Python 3 (ipykernel)",
   "language": "python",
   "name": "python3"
  },
  "language_info": {
   "codemirror_mode": {
    "name": "ipython",
    "version": 3
   },
   "file_extension": ".py",
   "mimetype": "text/x-python",
   "name": "python",
   "nbconvert_exporter": "python",
   "pygments_lexer": "ipython3",
   "version": "3.13.5"
  }
 },
 "nbformat": 4,
 "nbformat_minor": 5
}
