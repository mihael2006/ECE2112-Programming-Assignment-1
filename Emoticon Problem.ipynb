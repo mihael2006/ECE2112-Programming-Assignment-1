{
 "cells": [
  {
   "cell_type": "markdown",
   "id": "1c27e728-d41d-4978-8004-0c5f757217b3",
   "metadata": {},
   "source": [
    "Emoticon Problem"
   ]
  },
  {
   "cell_type": "code",
   "execution_count": 1,
   "id": "5bcda78c-2e67-4dfd-bdaa-16cd186329e7",
   "metadata": {},
   "outputs": [
    {
     "name": "stdin",
     "output_type": "stream",
     "text": [
      "Describe what you are feeling:  I am mad\n"
     ]
    },
    {
     "name": "stdout",
     "output_type": "stream",
     "text": [
      "I am >:(\n"
     ]
    }
   ],
   "source": [
    "def emoticon(word):\n",
    "    emoji = {'smile': ':)', 'grin': ':D', 'sad': ':((', 'mad': '>:('}\n",
    "    word = word.split()\n",
    "    for i in range(len(word)):\n",
    "        small_letters = word[i].lower()\n",
    "        if small_letters in emoji:\n",
    "            word[i] = emoji[small_letters]\n",
    "    return \" \".join(word)\n",
    "\n",
    "word = input(\"Describe what you are feeling: \")\n",
    "print(emoticon(word))"
   ]
  }
 ],
 "metadata": {
  "kernelspec": {
   "display_name": "Python 3 (ipykernel)",
   "language": "python",
   "name": "python3"
  },
  "language_info": {
   "codemirror_mode": {
    "name": "ipython",
    "version": 3
   },
   "file_extension": ".py",
   "mimetype": "text/x-python",
   "name": "python",
   "nbconvert_exporter": "python",
   "pygments_lexer": "ipython3",
   "version": "3.13.5"
  }
 },
 "nbformat": 4,
 "nbformat_minor": 5
}
