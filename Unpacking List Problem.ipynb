{
 "cells": [
  {
   "cell_type": "markdown",
   "id": "f7997124-e998-48e5-b6ad-45cd9f8a1038",
   "metadata": {},
   "source": [
    "Unpacking List Problem"
   ]
  },
  {
   "cell_type": "code",
   "execution_count": 2,
   "id": "0ba41822-97f9-4793-9d14-32fee5722548",
   "metadata": {},
   "outputs": [
    {
     "name": "stdin",
     "output_type": "stream",
     "text": [
      "List down here (separate by spaces):  1 2 3 4 5 6\n"
     ]
    },
    {
     "name": "stdout",
     "output_type": "stream",
     "text": [
      "First: 1\n",
      "Middle: ['2', '3', '4', '5']\n",
      "Last: 6\n"
     ]
    }
   ],
   "source": [
    "def unpacking(items):\n",
    "    your_list = items.split()\n",
    "    first = your_list[0]\n",
    "    middle = your_list[1:-1]\n",
    "    last = your_list[-1]\n",
    "    print('First:', first)\n",
    "    print('Middle:', middle)\n",
    "    print('Last:', last)\n",
    "\n",
    "items = input(\"List down here (separate by spaces): \")\n",
    "unpacking(items)"
   ]
  }
 ],
 "metadata": {
  "kernelspec": {
   "display_name": "Python 3 (ipykernel)",
   "language": "python",
   "name": "python3"
  },
  "language_info": {
   "codemirror_mode": {
    "name": "ipython",
    "version": 3
   },
   "file_extension": ".py",
   "mimetype": "text/x-python",
   "name": "python",
   "nbconvert_exporter": "python",
   "pygments_lexer": "ipython3",
   "version": "3.13.5"
  }
 },
 "nbformat": 4,
 "nbformat_minor": 5
}
